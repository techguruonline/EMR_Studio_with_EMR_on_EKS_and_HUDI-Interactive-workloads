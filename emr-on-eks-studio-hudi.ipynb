{
 "cells": [
  {
   "cell_type": "code",
   "execution_count": 5,
   "id": "cd4b7053-cd37-479f-887f-0278141efac9",
   "metadata": {
    "execution": {
     "iopub.execute_input": "2022-11-10T15:34:37.857042Z",
     "iopub.status.busy": "2022-11-10T15:34:37.856623Z",
     "iopub.status.idle": "2022-11-10T15:34:37.861872Z",
     "shell.execute_reply": "2022-11-10T15:34:37.860925Z",
     "shell.execute_reply.started": "2022-11-10T15:34:37.857012Z"
    },
    "tags": []
   },
   "outputs": [],
   "source": [
    "from pyspark.sql.functions import *\n",
    "from pyspark.sql.types import *\n",
    "\n",
    "from datetime import datetime\n"
   ]
  },
  {
   "cell_type": "markdown",
   "id": "30e21e5e-9d29-4aa2-889b-811738cbfc95",
   "metadata": {},
   "source": [
    "## Create Dataframe and define Schema"
   ]
  },
  {
   "cell_type": "code",
   "execution_count": 46,
   "id": "b64be65f-8260-47bd-81d2-fd1c26e9b9ef",
   "metadata": {
    "execution": {
     "iopub.execute_input": "2022-11-10T12:42:11.037161Z",
     "iopub.status.busy": "2022-11-10T12:42:11.036173Z",
     "iopub.status.idle": "2022-11-10T12:42:11.079990Z",
     "shell.execute_reply": "2022-11-10T12:42:11.078579Z",
     "shell.execute_reply.started": "2022-11-10T12:42:11.037111Z"
    },
    "tags": []
   },
   "outputs": [],
   "source": [
    "InputData = [\n",
    "    (1,'Prasad Nadig', 25, 'NJ','2022-01-01', datetime.strptime(datetime.now().strftime(\"%Y-%d-%m %H:%M:%S\"), \"%Y-%d-%m %H:%M:%S\")),\n",
    "    (2,'Ethereum', 80, 'NY', '2022-01-02', datetime.strptime(datetime.now().strftime(\"%Y-%d-%m %H:%M:%S\"), \"%Y-%d-%m %H:%M:%S\")),\n",
    "    (3,'Cosmos', 25, 'PA', '2022-01-03', datetime.strptime(datetime.now().strftime(\"%Y-%d-%m %H:%M:%S\"), \"%Y-%d-%m %H:%M:%S\")),\n",
    "    (4,'Solana', 55, 'MD', '2022-01-04', datetime.strptime(datetime.now().strftime(\"%Y-%d-%m %H:%M:%S\"), \"%Y-%d-%m %H:%M:%S\")),\n",
    "    (5,'Carnado', 15, 'TX', '2022-01-05', datetime.strptime(datetime.now().strftime(\"%Y-%d-%m %H:%M:%S\"), \"%Y-%d-%m %H:%M:%S\")),\n",
    "    (6,'Link', 45, 'NJ', '2022-01-06', datetime.strptime(datetime.now().strftime(\"%Y-%d-%m %H:%M:%S\"), \"%Y-%d-%m %H:%M:%S\"))\n",
    "]\n",
    "\n",
    "#Define schema for the source data\n",
    "schema = StructType([ \\\n",
    "    StructField(\"cust_id\",IntegerType(),True), \\\n",
    "    StructField(\"cust_name\",StringType(),True), \\\n",
    "    StructField(\"cust_age\",IntegerType(),True), \\\n",
    "    StructField(\"cust_loc\",StringType(),True), \\\n",
    "    StructField(\"create_date\", StringType(), True), \\\n",
    "    StructField(\"last_updated_time\", TimestampType(), True)\n",
    "  ])\n",
    "\n",
    "#Create dataframe from the input data and the corresponding schema\n",
    "inputDF = spark.createDataFrame(data=InputData,schema=schema)"
   ]
  },
  {
   "cell_type": "code",
   "execution_count": 47,
   "id": "08b7cb5f-b075-4353-bdaa-392cf0e49d25",
   "metadata": {
    "execution": {
     "iopub.execute_input": "2022-11-10T12:42:14.064808Z",
     "iopub.status.busy": "2022-11-10T12:42:14.064251Z",
     "iopub.status.idle": "2022-11-10T12:42:23.872948Z",
     "shell.execute_reply": "2022-11-10T12:42:23.871876Z",
     "shell.execute_reply.started": "2022-11-10T12:42:14.064761Z"
    },
    "tags": []
   },
   "outputs": [
    {
     "name": "stdout",
     "output_type": "stream",
     "text": [
      "+-------+------------+--------+--------+-----------+-------------------+\n",
      "|cust_id|   cust_name|cust_age|cust_loc|create_date|  last_updated_time|\n",
      "+-------+------------+--------+--------+-----------+-------------------+\n",
      "|      1|Prasad Nadig|      25|      NJ| 2022-01-01|2022-11-10 12:42:11|\n",
      "|      2|    Ethereum|      80|      NY| 2022-01-02|2022-11-10 12:42:11|\n",
      "|      3|      Cosmos|      25|      PA| 2022-01-03|2022-11-10 12:42:11|\n",
      "|      4|      Solana|      55|      MD| 2022-01-04|2022-11-10 12:42:11|\n",
      "|      5|     Carnado|      15|      TX| 2022-01-05|2022-11-10 12:42:11|\n",
      "|      6|        Link|      45|      NJ| 2022-01-06|2022-11-10 12:42:11|\n",
      "+-------+------------+--------+--------+-----------+-------------------+\n",
      "\n"
     ]
    }
   ],
   "source": [
    "#Check data \n",
    "inputDF.show()"
   ]
  },
  {
   "cell_type": "markdown",
   "id": "4be3a5f6-fd03-4072-a8d5-11c57fe2285e",
   "metadata": {},
   "source": [
    "## Define HUDI options, write data to S3 as HUDI dataset"
   ]
  },
  {
   "cell_type": "code",
   "execution_count": 7,
   "id": "88bcc300-1521-45b6-b37e-d1864f18e0db",
   "metadata": {
    "execution": {
     "iopub.execute_input": "2022-11-10T15:35:19.921745Z",
     "iopub.status.busy": "2022-11-10T15:35:19.921246Z",
     "iopub.status.idle": "2022-11-10T15:35:19.926857Z",
     "shell.execute_reply": "2022-11-10T15:35:19.925850Z",
     "shell.execute_reply.started": "2022-11-10T15:35:19.921717Z"
    },
    "tags": []
   },
   "outputs": [],
   "source": [
    "hudiOptions = {\n",
    "'hoodie.table.name': 'customer',\n",
    "'hoodie.datasource.write.recordkey.field': 'cust_id',\n",
    "'hoodie.datasource.write.partitionpath.field': 'create_date',\n",
    "'hoodie.datasource.write.precombine.field': 'last_updated_time',\n",
    "'hoodie.datasource.hive_sync.enable': 'true',\n",
    "'hoodie.datasource.hive_sync.use_jdbc': 'false',\n",
    "'hoodie.datasource.hive_sync.mode':'hms',\n",
    "'hoodie.datasource.hive_sync.table': 'customer',\n",
    "'hoodie.datasource.hive_sync.partition_fields': 'last_updated_time',\n",
    "'hoodie.datasource.hive_sync.partition_extractor_class': 'org.apache.hudi.hive.MultiPartKeysValueExtractor'\n",
    "}"
   ]
  },
  {
   "cell_type": "code",
   "execution_count": 49,
   "id": "47488b86-fbe5-4649-8913-a8f687e85367",
   "metadata": {
    "execution": {
     "iopub.execute_input": "2022-11-10T12:42:32.849004Z",
     "iopub.status.busy": "2022-11-10T12:42:32.848517Z",
     "iopub.status.idle": "2022-11-10T12:43:12.144824Z",
     "shell.execute_reply": "2022-11-10T12:43:12.143778Z",
     "shell.execute_reply.started": "2022-11-10T12:42:32.848976Z"
    },
    "tags": []
   },
   "outputs": [],
   "source": [
    "inputDF.write \\\n",
    ".format('org.apache.hudi') \\\n",
    ".option('hoodie.datasource.write.operation', 'insert') \\\n",
    ".options(**hudiOptions) \\\n",
    ".mode('overwrite') \\\n",
    ".save('s3://emr-studio-emr-on-eks/hudi-tables/')"
   ]
  },
  {
   "cell_type": "code",
   "execution_count": null,
   "id": "625a6548-f910-443d-b631-9361aa100cd9",
   "metadata": {
    "tags": []
   },
   "outputs": [],
   "source": [
    "#datetime.strptime(datetime.now().strftime(\"%Y-%d-%m %H:%M:%S\"), \"%Y-%d-%m %H:%M:%S\")"
   ]
  },
  {
   "cell_type": "markdown",
   "id": "298aa66f-c46a-4220-b318-379e54245bc4",
   "metadata": {},
   "source": [
    "## Read data from HUDI Dataset we just created"
   ]
  },
  {
   "cell_type": "code",
   "execution_count": 3,
   "id": "f99bdff3-e1e0-4c22-a533-94e6f99cb5bc",
   "metadata": {
    "execution": {
     "iopub.execute_input": "2022-11-10T15:17:32.273397Z",
     "iopub.status.busy": "2022-11-10T15:17:32.272332Z",
     "iopub.status.idle": "2022-11-10T15:17:37.317946Z",
     "shell.execute_reply": "2022-11-10T15:17:37.316562Z",
     "shell.execute_reply.started": "2022-11-10T15:17:32.273345Z"
    },
    "tags": []
   },
   "outputs": [
    {
     "name": "stdout",
     "output_type": "stream",
     "text": [
      "+-------+------------+--------+--------+-----------+-------------------+\n",
      "|cust_id|   cust_name|cust_age|cust_loc|create_date|  last_updated_time|\n",
      "+-------+------------+--------+--------+-----------+-------------------+\n",
      "|      2|    Ethereum|      80|      NY| 2022-01-02|2022-11-10 12:42:11|\n",
      "|      1|Prasad Nadig|      25|      NJ| 2022-01-01|2022-11-10 12:42:11|\n",
      "|      3|      Cosmos|      25|      PA| 2022-01-03|2022-11-10 12:42:11|\n",
      "|      4|      Solana|      55|      MD| 2022-01-04|2022-11-10 12:42:11|\n",
      "|      5|     Carnado|      15|      TX| 2022-01-05|2022-11-10 12:42:11|\n",
      "|      6|        Link|      45|      NJ| 2022-01-06|2022-11-10 12:42:11|\n",
      "+-------+------------+--------+--------+-----------+-------------------+\n",
      "\n"
     ]
    }
   ],
   "source": [
    "# By default HUDI performs snapshot queries. \n",
    "snapshotQueryDF = spark.read \\\n",
    "    .format('org.apache.hudi') \\\n",
    "    .load('s3://emr-studio-emr-on-eks/hudi-tables' + '/*/*')\n",
    "    \n",
    "snapshotQueryDF.select(\"cust_id\", \"cust_name\", \"cust_age\", \"cust_loc\", \"create_date\", \"last_updated_time\").orderBy(\"cust_id\").show()"
   ]
  },
  {
   "cell_type": "markdown",
   "id": "3438da65-cb0f-4e02-a09d-aa96313261a1",
   "metadata": {},
   "source": [
    "# DML Operations\n",
    "\n",
    "## UPSERT\n",
    "###  - HUDI write opearation provides 3 options Upsert/Insert and Bulk Insert, we did Insert in the previous steps, now lets try the upsert operation"
   ]
  },
  {
   "cell_type": "code",
   "execution_count": 6,
   "id": "743fc35e-6a4b-49b4-9fd8-ba39bd3684de",
   "metadata": {
    "execution": {
     "iopub.execute_input": "2022-11-10T15:34:46.399174Z",
     "iopub.status.busy": "2022-11-10T15:34:46.398748Z",
     "iopub.status.idle": "2022-11-10T15:34:46.778639Z",
     "shell.execute_reply": "2022-11-10T15:34:46.777587Z",
     "shell.execute_reply.started": "2022-11-10T15:34:46.399144Z"
    },
    "tags": []
   },
   "outputs": [],
   "source": [
    "# We will update an existing record and insert a new record. Upsert operation in HUDI will find the record based on the RecordKey, if found it will update the value, if not found then will Insert the record.\n",
    "InputData = [\n",
    "    (1,'Prasad S Nadig', 30, 'NJ','2022-01-01', datetime.strptime(datetime.now().strftime(\"%Y-%d-%m %H:%M:%S\"), \"%Y-%d-%m %H:%M:%S\")), #Update\n",
    "    (7,'Compound', 20, 'NJ', '2022-01-07', datetime.strptime(datetime.now().strftime(\"%Y-%d-%m %H:%M:%S\"), \"%Y-%d-%m %H:%M:%S\")) #Insert\n",
    "]\n",
    "\n",
    "#Define schema for the source data\n",
    "schema = StructType([ \\\n",
    "    StructField(\"cust_id\",IntegerType(),True), \\\n",
    "    StructField(\"cust_name\",StringType(),True), \\\n",
    "    StructField(\"cust_age\",IntegerType(),True), \\\n",
    "    StructField(\"cust_loc\",StringType(),True), \\\n",
    "    StructField(\"create_date\", StringType(), True), \\\n",
    "    StructField(\"last_updated_time\", TimestampType(), True)\n",
    "  ])\n",
    "\n",
    "#Create dataframe from the input data and the corresponding schema\n",
    "updateDF = spark.createDataFrame(data=InputData,schema=schema)"
   ]
  },
  {
   "cell_type": "code",
   "execution_count": 8,
   "id": "0109bc6d-deec-4dc1-bbaa-13c2f852e6e8",
   "metadata": {
    "execution": {
     "iopub.execute_input": "2022-11-10T15:37:19.069558Z",
     "iopub.status.busy": "2022-11-10T15:37:19.069049Z",
     "iopub.status.idle": "2022-11-10T15:38:09.144360Z",
     "shell.execute_reply": "2022-11-10T15:38:09.142879Z",
     "shell.execute_reply.started": "2022-11-10T15:37:19.069530Z"
    }
   },
   "outputs": [],
   "source": [
    "#Now we will Update/Insert the data to HUDI dataset on S3, instead of insert, we will use \"upsert\" and instead of overwrite for mode, we will use \"append\"\n",
    "\n",
    "updateDF.write \\\n",
    ".format('org.apache.hudi') \\\n",
    ".option('hoodie.datasource.write.operation', 'upsert') \\\n",
    ".options(**hudiOptions) \\\n",
    ".mode('append') \\\n",
    ".save('s3://emr-studio-emr-on-eks/hudi-tables/')"
   ]
  },
  {
   "cell_type": "code",
   "execution_count": 9,
   "id": "e7dbd3de-6dd4-4157-8f6c-c846a2e1822b",
   "metadata": {
    "execution": {
     "iopub.execute_input": "2022-11-10T15:39:55.893172Z",
     "iopub.status.busy": "2022-11-10T15:39:55.892656Z",
     "iopub.status.idle": "2022-11-10T15:39:59.999591Z",
     "shell.execute_reply": "2022-11-10T15:39:59.998568Z",
     "shell.execute_reply.started": "2022-11-10T15:39:55.893143Z"
    }
   },
   "outputs": [
    {
     "name": "stdout",
     "output_type": "stream",
     "text": [
      "+-------+--------------+--------+--------+-----------+-------------------+\n",
      "|cust_id|     cust_name|cust_age|cust_loc|create_date|  last_updated_time|\n",
      "+-------+--------------+--------+--------+-----------+-------------------+\n",
      "|      1|Prasad S Nadig|      30|      NJ| 2022-01-01|2022-11-10 15:34:46|\n",
      "|      2|      Ethereum|      80|      NY| 2022-01-02|2022-11-10 12:42:11|\n",
      "|      3|        Cosmos|      25|      PA| 2022-01-03|2022-11-10 12:42:11|\n",
      "|      4|        Solana|      55|      MD| 2022-01-04|2022-11-10 12:42:11|\n",
      "|      5|       Carnado|      15|      TX| 2022-01-05|2022-11-10 12:42:11|\n",
      "|      6|          Link|      45|      NJ| 2022-01-06|2022-11-10 12:42:11|\n",
      "|      7|      Compound|      20|      NJ| 2022-01-07|2022-11-10 15:34:46|\n",
      "+-------+--------------+--------+--------+-----------+-------------------+\n",
      "\n"
     ]
    }
   ],
   "source": [
    "# Lets check the HUDI dataset if the record was updated and the new record was inserted or not\n",
    "# You should see cust_name and cust_age for cust_i=1 is updated and a new record cust_id=7 is inserted.\n",
    "#also notice that the last_updated_time is also updated for cust_id=1\n",
    "\n",
    "snapshotQueryDF = spark.read \\\n",
    "    .format('org.apache.hudi') \\\n",
    "    .load('s3://emr-studio-emr-on-eks/hudi-tables' + '/*/*')\n",
    "    \n",
    "snapshotQueryDF.select(\"cust_id\", \"cust_name\", \"cust_age\", \"cust_loc\", \"create_date\", \"last_updated_time\").orderBy(\"cust_id\").show()"
   ]
  },
  {
   "cell_type": "markdown",
   "id": "5468d07e-3122-4006-a104-985961b0b022",
   "metadata": {},
   "source": [
    "## DELETE"
   ]
  },
  {
   "cell_type": "code",
   "execution_count": 10,
   "id": "9446a03d-938e-46f4-9cde-3600873af12a",
   "metadata": {
    "execution": {
     "iopub.execute_input": "2022-11-10T17:36:23.623936Z",
     "iopub.status.busy": "2022-11-10T17:36:23.622916Z",
     "iopub.status.idle": "2022-11-10T17:36:23.669427Z",
     "shell.execute_reply": "2022-11-10T17:36:23.668086Z",
     "shell.execute_reply.started": "2022-11-10T17:36:23.623885Z"
    }
   },
   "outputs": [],
   "source": [
    "#HUDI alllows you to delete records just like traditional RDBMS, so let's delete a record\n",
    "deleteDF = snapshotQueryDF.where(\"cust_id==6\")"
   ]
  },
  {
   "cell_type": "code",
   "execution_count": 11,
   "id": "3948beab-bc8c-43b5-99f8-d57db1f45218",
   "metadata": {
    "execution": {
     "iopub.execute_input": "2022-11-10T17:37:57.826210Z",
     "iopub.status.busy": "2022-11-10T17:37:57.825793Z",
     "iopub.status.idle": "2022-11-10T17:38:44.220101Z",
     "shell.execute_reply": "2022-11-10T17:38:44.218956Z",
     "shell.execute_reply.started": "2022-11-10T17:37:57.826180Z"
    }
   },
   "outputs": [],
   "source": [
    "#Write to HUDI dataset to apply the deletes\n",
    "deleteDF.write \\\n",
    ".format('org.apache.hudi') \\\n",
    ".option(\"hoodie.datasource.write.payload.class\", \"org.apache.hudi.common.model.EmptyHoodieRecordPayload\") \\\n",
    ".options(**hudiOptions) \\\n",
    ".mode('append') \\\n",
    ".save('s3://emr-studio-emr-on-eks/hudi-tables/')"
   ]
  },
  {
   "cell_type": "code",
   "execution_count": 1,
   "id": "a99bd9dd-cc11-4166-9ed4-cfb7f74ecb9d",
   "metadata": {
    "execution": {
     "iopub.execute_input": "2022-11-21T14:23:39.711006Z",
     "iopub.status.busy": "2022-11-21T14:23:39.710343Z",
     "iopub.status.idle": "2022-11-21T14:24:09.383689Z",
     "shell.execute_reply": "2022-11-21T14:24:09.382608Z",
     "shell.execute_reply.started": "2022-11-21T14:23:39.710904Z"
    },
    "tags": []
   },
   "outputs": [
    {
     "name": "stdout",
     "output_type": "stream",
     "text": [
      "+-------+--------------+--------+--------+-----------+-------------------+\n",
      "|cust_id|     cust_name|cust_age|cust_loc|create_date|  last_updated_time|\n",
      "+-------+--------------+--------+--------+-----------+-------------------+\n",
      "|      1|Prasad S Nadig|      30|      NJ| 2022-01-01|2022-11-10 15:34:46|\n",
      "|      2|      Ethereum|      80|      NY| 2022-01-02|2022-11-10 12:42:11|\n",
      "|      3|        Cosmos|      25|      PA| 2022-01-03|2022-11-10 12:42:11|\n",
      "|      4|        Solana|      55|      MD| 2022-01-04|2022-11-10 12:42:11|\n",
      "|      5|       Carnado|      15|      TX| 2022-01-05|2022-11-10 12:42:11|\n",
      "|      7|      Compound|      20|      NJ| 2022-01-07|2022-11-10 15:34:46|\n",
      "+-------+--------------+--------+--------+-----------+-------------------+\n",
      "\n"
     ]
    }
   ],
   "source": [
    "#Notice that cust_id=6 has been permanently deleted from the dataset\n",
    "deleteReadDF = spark.read \\\n",
    "    .format('org.apache.hudi') \\\n",
    "    .load('s3://emr-studio-emr-on-eks/hudi-tables' + '/*/*')\n",
    "    \n",
    "deleteReadDF.select(\"cust_id\", \"cust_name\", \"cust_age\", \"cust_loc\", \"create_date\", \"last_updated_time\").orderBy(\"cust_id\").show()\n"
   ]
  },
  {
   "cell_type": "code",
   "execution_count": null,
   "id": "e0111ee2-1564-4227-8047-5f8b73225848",
   "metadata": {},
   "outputs": [],
   "source": []
  }
 ],
 "metadata": {
  "kernelspec": {
   "display_name": "PySpark (Kubernetes)",
   "language": "python",
   "name": "spark_python_kubernetes"
  },
  "language_info": {
   "codemirror_mode": {
    "name": "ipython",
    "version": 3
   },
   "file_extension": ".py",
   "mimetype": "text/x-python",
   "name": "python",
   "nbconvert_exporter": "python",
   "pygments_lexer": "ipython3",
   "version": "3.7.10"
  }
 },
 "nbformat": 4,
 "nbformat_minor": 5
}
